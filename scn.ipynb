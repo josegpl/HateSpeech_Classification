{
 "cells": [
  {
   "cell_type": "code",
   "execution_count": 1,
   "metadata": {},
   "outputs": [],
   "source": [
    "import numpy as np\n",
    "import pandas as pd\n",
    "\n",
    "import matplotlib.pyplot as plt\n",
    "import seaborn as sns\n",
    "\n",
    "import warnings"
   ]
  },
  {
   "cell_type": "code",
   "execution_count": 3,
   "metadata": {},
   "outputs": [
    {
     "name": "stdout",
     "output_type": "stream",
     "text": [
      "(99989, 3)\n"
     ]
    }
   ],
   "source": [
    "train = pd.read_csv('C:\\\\Users\\\\guilh_000\\Documents\\\\tweetsclassify\\\\train.csv', encoding='latin-1')\n",
    "#test = pd.read_csv('C:\\\\Users\\\\guilh_000\\\\Documents\\\\tweetsclassify\\\\testsentiment.csv')\n",
    "\n",
    "print(train.shape)\n",
    "#print(test.shape)"
   ]
  },
  {
   "cell_type": "code",
   "execution_count": 4,
   "metadata": {},
   "outputs": [
    {
     "data": {
      "text/html": [
       "<div>\n",
       "<style scoped>\n",
       "    .dataframe tbody tr th:only-of-type {\n",
       "        vertical-align: middle;\n",
       "    }\n",
       "\n",
       "    .dataframe tbody tr th {\n",
       "        vertical-align: top;\n",
       "    }\n",
       "\n",
       "    .dataframe thead th {\n",
       "        text-align: right;\n",
       "    }\n",
       "</style>\n",
       "<table border=\"1\" class=\"dataframe\">\n",
       "  <thead>\n",
       "    <tr style=\"text-align: right;\">\n",
       "      <th></th>\n",
       "      <th>ItemID</th>\n",
       "      <th>Sentiment</th>\n",
       "      <th>SentimentText</th>\n",
       "    </tr>\n",
       "  </thead>\n",
       "  <tbody>\n",
       "    <tr>\n",
       "      <th>0</th>\n",
       "      <td>1</td>\n",
       "      <td>0</td>\n",
       "      <td>is so sad for my APL frie...</td>\n",
       "    </tr>\n",
       "    <tr>\n",
       "      <th>1</th>\n",
       "      <td>2</td>\n",
       "      <td>0</td>\n",
       "      <td>I missed the New Moon trail...</td>\n",
       "    </tr>\n",
       "    <tr>\n",
       "      <th>2</th>\n",
       "      <td>3</td>\n",
       "      <td>1</td>\n",
       "      <td>omg its already 7:30 :O</td>\n",
       "    </tr>\n",
       "    <tr>\n",
       "      <th>3</th>\n",
       "      <td>4</td>\n",
       "      <td>0</td>\n",
       "      <td>.. Omgaga. Im sooo  im gunna CRy. I'...</td>\n",
       "    </tr>\n",
       "    <tr>\n",
       "      <th>4</th>\n",
       "      <td>5</td>\n",
       "      <td>0</td>\n",
       "      <td>i think mi bf is cheating on me!!!   ...</td>\n",
       "    </tr>\n",
       "  </tbody>\n",
       "</table>\n",
       "</div>"
      ],
      "text/plain": [
       "   ItemID  Sentiment                                      SentimentText\n",
       "0       1          0                       is so sad for my APL frie...\n",
       "1       2          0                     I missed the New Moon trail...\n",
       "2       3          1                            omg its already 7:30 :O\n",
       "3       4          0            .. Omgaga. Im sooo  im gunna CRy. I'...\n",
       "4       5          0           i think mi bf is cheating on me!!!   ..."
      ]
     },
     "execution_count": 4,
     "metadata": {},
     "output_type": "execute_result"
    }
   ],
   "source": [
    "train.head()"
   ]
  },
  {
   "cell_type": "code",
   "execution_count": 6,
   "metadata": {},
   "outputs": [
    {
     "data": {
      "text/plain": [
       "ItemID           False\n",
       "Sentiment        False\n",
       "SentimentText    False\n",
       "dtype: bool"
      ]
     },
     "execution_count": 6,
     "metadata": {},
     "output_type": "execute_result"
    }
   ],
   "source": [
    "train.isnull().any()"
   ]
  },
  {
   "cell_type": "code",
   "execution_count": 8,
   "metadata": {},
   "outputs": [
    {
     "data": {
      "text/html": [
       "<div>\n",
       "<style scoped>\n",
       "    .dataframe tbody tr th:only-of-type {\n",
       "        vertical-align: middle;\n",
       "    }\n",
       "\n",
       "    .dataframe tbody tr th {\n",
       "        vertical-align: top;\n",
       "    }\n",
       "\n",
       "    .dataframe thead th {\n",
       "        text-align: right;\n",
       "    }\n",
       "</style>\n",
       "<table border=\"1\" class=\"dataframe\">\n",
       "  <thead>\n",
       "    <tr style=\"text-align: right;\">\n",
       "      <th></th>\n",
       "      <th>ItemID</th>\n",
       "      <th>Sentiment</th>\n",
       "      <th>SentimentText</th>\n",
       "    </tr>\n",
       "  </thead>\n",
       "  <tbody>\n",
       "    <tr>\n",
       "      <th>2</th>\n",
       "      <td>3</td>\n",
       "      <td>1</td>\n",
       "      <td>omg its already 7:30 :O</td>\n",
       "    </tr>\n",
       "    <tr>\n",
       "      <th>6</th>\n",
       "      <td>7</td>\n",
       "      <td>1</td>\n",
       "      <td>Juuuuuuuuuuuuuuuuussssst Chillin!!</td>\n",
       "    </tr>\n",
       "    <tr>\n",
       "      <th>8</th>\n",
       "      <td>9</td>\n",
       "      <td>1</td>\n",
       "      <td>handed in my uniform today . i miss you ...</td>\n",
       "    </tr>\n",
       "    <tr>\n",
       "      <th>9</th>\n",
       "      <td>10</td>\n",
       "      <td>1</td>\n",
       "      <td>hmmmm.... i wonder how she my number @-)</td>\n",
       "    </tr>\n",
       "    <tr>\n",
       "      <th>11</th>\n",
       "      <td>12</td>\n",
       "      <td>1</td>\n",
       "      <td>thanks to all the haters up in my face a...</td>\n",
       "    </tr>\n",
       "    <tr>\n",
       "      <th>17</th>\n",
       "      <td>18</td>\n",
       "      <td>1</td>\n",
       "      <td>Feeling strangely fine. Now I'm gonna go l...</td>\n",
       "    </tr>\n",
       "    <tr>\n",
       "      <th>22</th>\n",
       "      <td>23</td>\n",
       "      <td>1</td>\n",
       "      <td>You're the only one who can see this cause...</td>\n",
       "    </tr>\n",
       "    <tr>\n",
       "      <th>28</th>\n",
       "      <td>29</td>\n",
       "      <td>1</td>\n",
       "      <td>goodbye exams, HELLO ALCOHOL TONIGHT</td>\n",
       "    </tr>\n",
       "    <tr>\n",
       "      <th>38</th>\n",
       "      <td>39</td>\n",
       "      <td>1</td>\n",
       "      <td>uploading pictures on friendster</td>\n",
       "    </tr>\n",
       "    <tr>\n",
       "      <th>41</th>\n",
       "      <td>42</td>\n",
       "      <td>1</td>\n",
       "      <td>(: !!!!!! - so i wrote something last week. ...</td>\n",
       "    </tr>\n",
       "  </tbody>\n",
       "</table>\n",
       "</div>"
      ],
      "text/plain": [
       "    ItemID  Sentiment                                      SentimentText\n",
       "2        3          1                            omg its already 7:30 :O\n",
       "6        7          1                 Juuuuuuuuuuuuuuuuussssst Chillin!!\n",
       "8        9          1        handed in my uniform today . i miss you ...\n",
       "9       10          1           hmmmm.... i wonder how she my number @-)\n",
       "11      12          1        thanks to all the haters up in my face a...\n",
       "17      18          1      Feeling strangely fine. Now I'm gonna go l...\n",
       "22      23          1      You're the only one who can see this cause...\n",
       "28      29          1              goodbye exams, HELLO ALCOHOL TONIGHT \n",
       "38      39          1                  uploading pictures on friendster \n",
       "41      42          1    (: !!!!!! - so i wrote something last week. ..."
      ]
     },
     "execution_count": 8,
     "metadata": {},
     "output_type": "execute_result"
    }
   ],
   "source": [
    "# checking out the positive comments from the train set\n",
    "\n",
    "train[train['Sentiment'] == 1].head(10)"
   ]
  },
  {
   "cell_type": "code",
   "execution_count": 9,
   "metadata": {},
   "outputs": [],
   "source": [
    "from textblob import TextBlob\n",
    "def lemmatize_with_postag(sentence):\n",
    "    sent = TextBlob(sentence)\n",
    "    tag_dict = {\"J\":'a',\"N\":'n',\"V\":'v',\"R\":'r'}\n",
    "    words_and_tags = [(w, tag_dict.get(pos[0],'n'))for w, pos in sent.tags]\n",
    "    lemmatized_list = [wd.lemmatize(tag)for wd, tag in words_and_tags]\n",
    "    return \" \".join(lemmatized_list)\n",
    "\n",
    "import string\n",
    "import nltk\n",
    "from nltk.corpus import stopwords\n",
    "import re\n",
    "def normalizer(tweet):\n",
    "    punct = list(string.punctuation)\n",
    "    stop_words = stopwords.words('english')\n",
    "    additional_stop_words = ['RT','rt','via','...','http','twitpic','tinyurl','www', 'amp']\n",
    "    stopword_list = punct + stop_words + additional_stop_words\n",
    "    \n",
    "    tweet = re.sub(\"(@[A-Za-z0-9]+)|(#[A-Za-z0-9]+)\", \" \", tweet)\n",
    "    tweet_ = re.sub(\"(\\w+:\\/\\/\\S+)\", \" \", tweet)\n",
    "    tweet__ = re.sub(\"[^a-zA-Z]\", \" \", tweet_)\n",
    "    lemmatized = lemmatize_with_postag(tweet__)\n",
    "    tokens = nltk.word_tokenize(lemmatized)[2:]\n",
    "    lower_case = [l.lower() for l in tokens]\n",
    "    filtered_result = list(filter(lambda l: l not in stopword_list, lower_case))\n",
    "    return filtered_result"
   ]
  },
  {
   "cell_type": "code",
   "execution_count": 11,
   "metadata": {},
   "outputs": [],
   "source": [
    "train['normalized'] = train.SentimentText.apply(normalizer)\n",
    "train['normal'] = [' '.join(map(str, l)) for l in train['normalized']]"
   ]
  },
  {
   "cell_type": "code",
   "execution_count": 23,
   "metadata": {},
   "outputs": [
    {
     "data": {
      "text/html": [
       "<div>\n",
       "<style scoped>\n",
       "    .dataframe tbody tr th:only-of-type {\n",
       "        vertical-align: middle;\n",
       "    }\n",
       "\n",
       "    .dataframe tbody tr th {\n",
       "        vertical-align: top;\n",
       "    }\n",
       "\n",
       "    .dataframe thead th {\n",
       "        text-align: right;\n",
       "    }\n",
       "</style>\n",
       "<table border=\"1\" class=\"dataframe\">\n",
       "  <thead>\n",
       "    <tr style=\"text-align: right;\">\n",
       "      <th></th>\n",
       "      <th>ItemID</th>\n",
       "      <th>Sentiment</th>\n",
       "      <th>SentimentText</th>\n",
       "      <th>normalized</th>\n",
       "      <th>normal</th>\n",
       "    </tr>\n",
       "  </thead>\n",
       "  <tbody>\n",
       "    <tr>\n",
       "      <th>99966</th>\n",
       "      <td>99978</td>\n",
       "      <td>0</td>\n",
       "      <td>@ctb1221 yeah  sorry.going to a concert that n...</td>\n",
       "      <td>[go, concert, night, non, returnable, ticket]</td>\n",
       "      <td>go concert night non returnable ticket</td>\n",
       "    </tr>\n",
       "    <tr>\n",
       "      <th>99967</th>\n",
       "      <td>99979</td>\n",
       "      <td>1</td>\n",
       "      <td>@ctcash @buildingateam @diabetescure @chocolat...</td>\n",
       "      <td>[spread, word]</td>\n",
       "      <td>spread word</td>\n",
       "    </tr>\n",
       "    <tr>\n",
       "      <th>99968</th>\n",
       "      <td>99980</td>\n",
       "      <td>1</td>\n",
       "      <td>@ctdesign87 im so glad you went to china town ...</td>\n",
       "      <td>[glad, go, china, town, actually, think, birya...</td>\n",
       "      <td>glad go china town actually think biryani plac...</td>\n",
       "    </tr>\n",
       "    <tr>\n",
       "      <th>99970</th>\n",
       "      <td>99982</td>\n",
       "      <td>0</td>\n",
       "      <td>@CTerry1985 damn it, dont have sky</td>\n",
       "      <td>[dont, sky]</td>\n",
       "      <td>dont sky</td>\n",
       "    </tr>\n",
       "    <tr>\n",
       "      <th>99971</th>\n",
       "      <td>99983</td>\n",
       "      <td>0</td>\n",
       "      <td>@CTerry1985 That's the thing; the new raft of ...</td>\n",
       "      <td>[thing, new, raft, star, wars, film, raft]</td>\n",
       "      <td>thing new raft star wars film raft</td>\n",
       "    </tr>\n",
       "    <tr>\n",
       "      <th>99974</th>\n",
       "      <td>99986</td>\n",
       "      <td>0</td>\n",
       "      <td>@ctham #awaresg You are not wrong. But from a ...</td>\n",
       "      <td>[wrong, male, point, view, felt, exclude, even...</td>\n",
       "      <td>wrong male point view felt exclude even non re...</td>\n",
       "    </tr>\n",
       "    <tr>\n",
       "      <th>99975</th>\n",
       "      <td>99987</td>\n",
       "      <td>0</td>\n",
       "      <td>@ctham @mommyfizz cuz you big burly man.  haha...</td>\n",
       "      <td>[big, burly, man, hahahahahahahahaha]</td>\n",
       "      <td>big burly man hahahahahahahahaha</td>\n",
       "    </tr>\n",
       "    <tr>\n",
       "      <th>99976</th>\n",
       "      <td>99988</td>\n",
       "      <td>1</td>\n",
       "      <td>@ctham @Wilsurn Trying to get a wider range of...</td>\n",
       "      <td>[get, wider, range, shirt, suit, everyone, ple...</td>\n",
       "      <td>get wider range shirt suit everyone please mak...</td>\n",
       "    </tr>\n",
       "    <tr>\n",
       "      <th>99977</th>\n",
       "      <td>99989</td>\n",
       "      <td>1</td>\n",
       "      <td>@ctham Haha I love the passion in your support</td>\n",
       "      <td>[love, passion, support]</td>\n",
       "      <td>love passion support</td>\n",
       "    </tr>\n",
       "    <tr>\n",
       "      <th>99978</th>\n",
       "      <td>99990</td>\n",
       "      <td>1</td>\n",
       "      <td>@cthulhullahoop That sucks...I like living in ...</td>\n",
       "      <td>[like, live, coopersville, need, special, bag,...</td>\n",
       "      <td>like live coopersville need special bag anything</td>\n",
       "    </tr>\n",
       "    <tr>\n",
       "      <th>99979</th>\n",
       "      <td>99991</td>\n",
       "      <td>1</td>\n",
       "      <td>@cunningstunts till i can go home been here ti...</td>\n",
       "      <td>[go, home, till, saturday, x]</td>\n",
       "      <td>go home till saturday x</td>\n",
       "    </tr>\n",
       "    <tr>\n",
       "      <th>99980</th>\n",
       "      <td>99992</td>\n",
       "      <td>1</td>\n",
       "      <td>@cunningstunts22 afternoon jim hows you  x</td>\n",
       "      <td>[hows, x]</td>\n",
       "      <td>hows x</td>\n",
       "    </tr>\n",
       "    <tr>\n",
       "      <th>99981</th>\n",
       "      <td>99993</td>\n",
       "      <td>0</td>\n",
       "      <td>@cup_a_tea The foot is really bad. Like the wo...</td>\n",
       "      <td>[foot, really, bad, like, bad, ever, barely, w...</td>\n",
       "      <td>foot really bad like bad ever barely walk right</td>\n",
       "    </tr>\n",
       "    <tr>\n",
       "      <th>99982</th>\n",
       "      <td>99994</td>\n",
       "      <td>1</td>\n",
       "      <td>@Cup_Of_Katy Have fun doing health &amp;amp; safet...</td>\n",
       "      <td>[fun, health, amp, safety, switch, look, sprit...</td>\n",
       "      <td>fun health amp safety switch look spritely xxx</td>\n",
       "    </tr>\n",
       "    <tr>\n",
       "      <th>99983</th>\n",
       "      <td>99995</td>\n",
       "      <td>0</td>\n",
       "      <td>@cupati It took me waaay too long to get your ...</td>\n",
       "      <td>[waaay, long, get, message, ashamed, right, re...</td>\n",
       "      <td>waaay long get message ashamed right really as...</td>\n",
       "    </tr>\n",
       "    <tr>\n",
       "      <th>99984</th>\n",
       "      <td>99996</td>\n",
       "      <td>0</td>\n",
       "      <td>@Cupcake  seems like a repeating problem   hop...</td>\n",
       "      <td>[repeating, problem, hope, able, find, something]</td>\n",
       "      <td>repeating problem hope able find something</td>\n",
       "    </tr>\n",
       "    <tr>\n",
       "      <th>99985</th>\n",
       "      <td>99997</td>\n",
       "      <td>1</td>\n",
       "      <td>@cupcake__ arrrr we both replied to each other...</td>\n",
       "      <td>[reply, different, tweet, time, see, duno, hel...</td>\n",
       "      <td>reply different tweet time see duno hell kateyy</td>\n",
       "    </tr>\n",
       "    <tr>\n",
       "      <th>99986</th>\n",
       "      <td>99998</td>\n",
       "      <td>0</td>\n",
       "      <td>@CuPcAkE_2120 ya i thought so</td>\n",
       "      <td>[think]</td>\n",
       "      <td>think</td>\n",
       "    </tr>\n",
       "    <tr>\n",
       "      <th>99987</th>\n",
       "      <td>99999</td>\n",
       "      <td>1</td>\n",
       "      <td>@Cupcake_Dollie Yes. Yes. I'm glad you had mor...</td>\n",
       "      <td>[yes, glad, fun]</td>\n",
       "      <td>yes glad fun</td>\n",
       "    </tr>\n",
       "    <tr>\n",
       "      <th>99988</th>\n",
       "      <td>100000</td>\n",
       "      <td>1</td>\n",
       "      <td>@cupcake_kayla haha yes you do</td>\n",
       "      <td>[yes]</td>\n",
       "      <td>yes</td>\n",
       "    </tr>\n",
       "  </tbody>\n",
       "</table>\n",
       "</div>"
      ],
      "text/plain": [
       "       ItemID  Sentiment                                      SentimentText  \\\n",
       "99966   99978          0  @ctb1221 yeah  sorry.going to a concert that n...   \n",
       "99967   99979          1  @ctcash @buildingateam @diabetescure @chocolat...   \n",
       "99968   99980          1  @ctdesign87 im so glad you went to china town ...   \n",
       "99970   99982          0                @CTerry1985 damn it, dont have sky    \n",
       "99971   99983          0  @CTerry1985 That's the thing; the new raft of ...   \n",
       "99974   99986          0  @ctham #awaresg You are not wrong. But from a ...   \n",
       "99975   99987          0  @ctham @mommyfizz cuz you big burly man.  haha...   \n",
       "99976   99988          1  @ctham @Wilsurn Trying to get a wider range of...   \n",
       "99977   99989          1    @ctham Haha I love the passion in your support    \n",
       "99978   99990          1  @cthulhullahoop That sucks...I like living in ...   \n",
       "99979   99991          1  @cunningstunts till i can go home been here ti...   \n",
       "99980   99992          1         @cunningstunts22 afternoon jim hows you  x   \n",
       "99981   99993          0  @cup_a_tea The foot is really bad. Like the wo...   \n",
       "99982   99994          1  @Cup_Of_Katy Have fun doing health &amp; safet...   \n",
       "99983   99995          0  @cupati It took me waaay too long to get your ...   \n",
       "99984   99996          0  @Cupcake  seems like a repeating problem   hop...   \n",
       "99985   99997          1  @cupcake__ arrrr we both replied to each other...   \n",
       "99986   99998          0                     @CuPcAkE_2120 ya i thought so    \n",
       "99987   99999          1  @Cupcake_Dollie Yes. Yes. I'm glad you had mor...   \n",
       "99988  100000          1                    @cupcake_kayla haha yes you do    \n",
       "\n",
       "                                              normalized  \\\n",
       "99966      [go, concert, night, non, returnable, ticket]   \n",
       "99967                                     [spread, word]   \n",
       "99968  [glad, go, china, town, actually, think, birya...   \n",
       "99970                                        [dont, sky]   \n",
       "99971         [thing, new, raft, star, wars, film, raft]   \n",
       "99974  [wrong, male, point, view, felt, exclude, even...   \n",
       "99975              [big, burly, man, hahahahahahahahaha]   \n",
       "99976  [get, wider, range, shirt, suit, everyone, ple...   \n",
       "99977                           [love, passion, support]   \n",
       "99978  [like, live, coopersville, need, special, bag,...   \n",
       "99979                      [go, home, till, saturday, x]   \n",
       "99980                                          [hows, x]   \n",
       "99981  [foot, really, bad, like, bad, ever, barely, w...   \n",
       "99982  [fun, health, amp, safety, switch, look, sprit...   \n",
       "99983  [waaay, long, get, message, ashamed, right, re...   \n",
       "99984  [repeating, problem, hope, able, find, something]   \n",
       "99985  [reply, different, tweet, time, see, duno, hel...   \n",
       "99986                                            [think]   \n",
       "99987                                   [yes, glad, fun]   \n",
       "99988                                              [yes]   \n",
       "\n",
       "                                                  normal  \n",
       "99966             go concert night non returnable ticket  \n",
       "99967                                        spread word  \n",
       "99968  glad go china town actually think biryani plac...  \n",
       "99970                                           dont sky  \n",
       "99971                 thing new raft star wars film raft  \n",
       "99974  wrong male point view felt exclude even non re...  \n",
       "99975                   big burly man hahahahahahahahaha  \n",
       "99976  get wider range shirt suit everyone please mak...  \n",
       "99977                               love passion support  \n",
       "99978   like live coopersville need special bag anything  \n",
       "99979                            go home till saturday x  \n",
       "99980                                             hows x  \n",
       "99981    foot really bad like bad ever barely walk right  \n",
       "99982     fun health amp safety switch look spritely xxx  \n",
       "99983  waaay long get message ashamed right really as...  \n",
       "99984         repeating problem hope able find something  \n",
       "99985    reply different tweet time see duno hell kateyy  \n",
       "99986                                              think  \n",
       "99987                                       yes glad fun  \n",
       "99988                                                yes  "
      ]
     },
     "execution_count": 23,
     "metadata": {},
     "output_type": "execute_result"
    }
   ],
   "source": [
    "train.tail(20)"
   ]
  },
  {
   "cell_type": "code",
   "execution_count": 24,
   "metadata": {},
   "outputs": [
    {
     "data": {
      "text/html": [
       "<div>\n",
       "<style scoped>\n",
       "    .dataframe tbody tr th:only-of-type {\n",
       "        vertical-align: middle;\n",
       "    }\n",
       "\n",
       "    .dataframe tbody tr th {\n",
       "        vertical-align: top;\n",
       "    }\n",
       "\n",
       "    .dataframe thead th {\n",
       "        text-align: right;\n",
       "    }\n",
       "</style>\n",
       "<table border=\"1\" class=\"dataframe\">\n",
       "  <thead>\n",
       "    <tr style=\"text-align: right;\">\n",
       "      <th></th>\n",
       "      <th>ItemID</th>\n",
       "      <th>Sentiment</th>\n",
       "      <th>SentimentText</th>\n",
       "      <th>normalized</th>\n",
       "      <th>normal</th>\n",
       "    </tr>\n",
       "  </thead>\n",
       "  <tbody>\n",
       "    <tr>\n",
       "      <th>99966</th>\n",
       "      <td>99978</td>\n",
       "      <td>0</td>\n",
       "      <td>@ctb1221 yeah  sorry.going to a concert that n...</td>\n",
       "      <td>[go, concert, night, non, returnable, ticket]</td>\n",
       "      <td>go concert night non returnable ticket</td>\n",
       "    </tr>\n",
       "    <tr>\n",
       "      <th>99967</th>\n",
       "      <td>99979</td>\n",
       "      <td>1</td>\n",
       "      <td>@ctcash @buildingateam @diabetescure @chocolat...</td>\n",
       "      <td>[spread, word]</td>\n",
       "      <td>spread word</td>\n",
       "    </tr>\n",
       "    <tr>\n",
       "      <th>99968</th>\n",
       "      <td>99980</td>\n",
       "      <td>1</td>\n",
       "      <td>@ctdesign87 im so glad you went to china town ...</td>\n",
       "      <td>[glad, go, china, town, actually, think, birya...</td>\n",
       "      <td>glad go china town actually think biryani plac...</td>\n",
       "    </tr>\n",
       "    <tr>\n",
       "      <th>99970</th>\n",
       "      <td>99982</td>\n",
       "      <td>0</td>\n",
       "      <td>@CTerry1985 damn it, dont have sky</td>\n",
       "      <td>[dont, sky]</td>\n",
       "      <td>dont sky</td>\n",
       "    </tr>\n",
       "    <tr>\n",
       "      <th>99971</th>\n",
       "      <td>99983</td>\n",
       "      <td>0</td>\n",
       "      <td>@CTerry1985 That's the thing; the new raft of ...</td>\n",
       "      <td>[thing, new, raft, star, wars, film, raft]</td>\n",
       "      <td>thing new raft star wars film raft</td>\n",
       "    </tr>\n",
       "    <tr>\n",
       "      <th>99974</th>\n",
       "      <td>99986</td>\n",
       "      <td>0</td>\n",
       "      <td>@ctham #awaresg You are not wrong. But from a ...</td>\n",
       "      <td>[wrong, male, point, view, felt, exclude, even...</td>\n",
       "      <td>wrong male point view felt exclude even non re...</td>\n",
       "    </tr>\n",
       "    <tr>\n",
       "      <th>99975</th>\n",
       "      <td>99987</td>\n",
       "      <td>0</td>\n",
       "      <td>@ctham @mommyfizz cuz you big burly man.  haha...</td>\n",
       "      <td>[big, burly, man, hahahahahahahahaha]</td>\n",
       "      <td>big burly man hahahahahahahahaha</td>\n",
       "    </tr>\n",
       "    <tr>\n",
       "      <th>99976</th>\n",
       "      <td>99988</td>\n",
       "      <td>1</td>\n",
       "      <td>@ctham @Wilsurn Trying to get a wider range of...</td>\n",
       "      <td>[get, wider, range, shirt, suit, everyone, ple...</td>\n",
       "      <td>get wider range shirt suit everyone please mak...</td>\n",
       "    </tr>\n",
       "    <tr>\n",
       "      <th>99977</th>\n",
       "      <td>99989</td>\n",
       "      <td>1</td>\n",
       "      <td>@ctham Haha I love the passion in your support</td>\n",
       "      <td>[love, passion, support]</td>\n",
       "      <td>love passion support</td>\n",
       "    </tr>\n",
       "    <tr>\n",
       "      <th>99978</th>\n",
       "      <td>99990</td>\n",
       "      <td>1</td>\n",
       "      <td>@cthulhullahoop That sucks...I like living in ...</td>\n",
       "      <td>[like, live, coopersville, need, special, bag,...</td>\n",
       "      <td>like live coopersville need special bag anything</td>\n",
       "    </tr>\n",
       "    <tr>\n",
       "      <th>99979</th>\n",
       "      <td>99991</td>\n",
       "      <td>1</td>\n",
       "      <td>@cunningstunts till i can go home been here ti...</td>\n",
       "      <td>[go, home, till, saturday, x]</td>\n",
       "      <td>go home till saturday x</td>\n",
       "    </tr>\n",
       "    <tr>\n",
       "      <th>99980</th>\n",
       "      <td>99992</td>\n",
       "      <td>1</td>\n",
       "      <td>@cunningstunts22 afternoon jim hows you  x</td>\n",
       "      <td>[hows, x]</td>\n",
       "      <td>hows x</td>\n",
       "    </tr>\n",
       "    <tr>\n",
       "      <th>99981</th>\n",
       "      <td>99993</td>\n",
       "      <td>0</td>\n",
       "      <td>@cup_a_tea The foot is really bad. Like the wo...</td>\n",
       "      <td>[foot, really, bad, like, bad, ever, barely, w...</td>\n",
       "      <td>foot really bad like bad ever barely walk right</td>\n",
       "    </tr>\n",
       "    <tr>\n",
       "      <th>99982</th>\n",
       "      <td>99994</td>\n",
       "      <td>1</td>\n",
       "      <td>@Cup_Of_Katy Have fun doing health &amp;amp; safet...</td>\n",
       "      <td>[fun, health, amp, safety, switch, look, sprit...</td>\n",
       "      <td>fun health amp safety switch look spritely xxx</td>\n",
       "    </tr>\n",
       "    <tr>\n",
       "      <th>99983</th>\n",
       "      <td>99995</td>\n",
       "      <td>0</td>\n",
       "      <td>@cupati It took me waaay too long to get your ...</td>\n",
       "      <td>[waaay, long, get, message, ashamed, right, re...</td>\n",
       "      <td>waaay long get message ashamed right really as...</td>\n",
       "    </tr>\n",
       "    <tr>\n",
       "      <th>99984</th>\n",
       "      <td>99996</td>\n",
       "      <td>0</td>\n",
       "      <td>@Cupcake  seems like a repeating problem   hop...</td>\n",
       "      <td>[repeating, problem, hope, able, find, something]</td>\n",
       "      <td>repeating problem hope able find something</td>\n",
       "    </tr>\n",
       "    <tr>\n",
       "      <th>99985</th>\n",
       "      <td>99997</td>\n",
       "      <td>1</td>\n",
       "      <td>@cupcake__ arrrr we both replied to each other...</td>\n",
       "      <td>[reply, different, tweet, time, see, duno, hel...</td>\n",
       "      <td>reply different tweet time see duno hell kateyy</td>\n",
       "    </tr>\n",
       "    <tr>\n",
       "      <th>99986</th>\n",
       "      <td>99998</td>\n",
       "      <td>0</td>\n",
       "      <td>@CuPcAkE_2120 ya i thought so</td>\n",
       "      <td>[think]</td>\n",
       "      <td>think</td>\n",
       "    </tr>\n",
       "    <tr>\n",
       "      <th>99987</th>\n",
       "      <td>99999</td>\n",
       "      <td>1</td>\n",
       "      <td>@Cupcake_Dollie Yes. Yes. I'm glad you had mor...</td>\n",
       "      <td>[yes, glad, fun]</td>\n",
       "      <td>yes glad fun</td>\n",
       "    </tr>\n",
       "    <tr>\n",
       "      <th>99988</th>\n",
       "      <td>100000</td>\n",
       "      <td>1</td>\n",
       "      <td>@cupcake_kayla haha yes you do</td>\n",
       "      <td>[yes]</td>\n",
       "      <td>yes</td>\n",
       "    </tr>\n",
       "  </tbody>\n",
       "</table>\n",
       "</div>"
      ],
      "text/plain": [
       "       ItemID  Sentiment                                      SentimentText  \\\n",
       "99966   99978          0  @ctb1221 yeah  sorry.going to a concert that n...   \n",
       "99967   99979          1  @ctcash @buildingateam @diabetescure @chocolat...   \n",
       "99968   99980          1  @ctdesign87 im so glad you went to china town ...   \n",
       "99970   99982          0                @CTerry1985 damn it, dont have sky    \n",
       "99971   99983          0  @CTerry1985 That's the thing; the new raft of ...   \n",
       "99974   99986          0  @ctham #awaresg You are not wrong. But from a ...   \n",
       "99975   99987          0  @ctham @mommyfizz cuz you big burly man.  haha...   \n",
       "99976   99988          1  @ctham @Wilsurn Trying to get a wider range of...   \n",
       "99977   99989          1    @ctham Haha I love the passion in your support    \n",
       "99978   99990          1  @cthulhullahoop That sucks...I like living in ...   \n",
       "99979   99991          1  @cunningstunts till i can go home been here ti...   \n",
       "99980   99992          1         @cunningstunts22 afternoon jim hows you  x   \n",
       "99981   99993          0  @cup_a_tea The foot is really bad. Like the wo...   \n",
       "99982   99994          1  @Cup_Of_Katy Have fun doing health &amp; safet...   \n",
       "99983   99995          0  @cupati It took me waaay too long to get your ...   \n",
       "99984   99996          0  @Cupcake  seems like a repeating problem   hop...   \n",
       "99985   99997          1  @cupcake__ arrrr we both replied to each other...   \n",
       "99986   99998          0                     @CuPcAkE_2120 ya i thought so    \n",
       "99987   99999          1  @Cupcake_Dollie Yes. Yes. I'm glad you had mor...   \n",
       "99988  100000          1                    @cupcake_kayla haha yes you do    \n",
       "\n",
       "                                              normalized  \\\n",
       "99966      [go, concert, night, non, returnable, ticket]   \n",
       "99967                                     [spread, word]   \n",
       "99968  [glad, go, china, town, actually, think, birya...   \n",
       "99970                                        [dont, sky]   \n",
       "99971         [thing, new, raft, star, wars, film, raft]   \n",
       "99974  [wrong, male, point, view, felt, exclude, even...   \n",
       "99975              [big, burly, man, hahahahahahahahaha]   \n",
       "99976  [get, wider, range, shirt, suit, everyone, ple...   \n",
       "99977                           [love, passion, support]   \n",
       "99978  [like, live, coopersville, need, special, bag,...   \n",
       "99979                      [go, home, till, saturday, x]   \n",
       "99980                                          [hows, x]   \n",
       "99981  [foot, really, bad, like, bad, ever, barely, w...   \n",
       "99982  [fun, health, amp, safety, switch, look, sprit...   \n",
       "99983  [waaay, long, get, message, ashamed, right, re...   \n",
       "99984  [repeating, problem, hope, able, find, something]   \n",
       "99985  [reply, different, tweet, time, see, duno, hel...   \n",
       "99986                                            [think]   \n",
       "99987                                   [yes, glad, fun]   \n",
       "99988                                              [yes]   \n",
       "\n",
       "                                                  normal  \n",
       "99966             go concert night non returnable ticket  \n",
       "99967                                        spread word  \n",
       "99968  glad go china town actually think biryani plac...  \n",
       "99970                                           dont sky  \n",
       "99971                 thing new raft star wars film raft  \n",
       "99974  wrong male point view felt exclude even non re...  \n",
       "99975                   big burly man hahahahahahahahaha  \n",
       "99976  get wider range shirt suit everyone please mak...  \n",
       "99977                               love passion support  \n",
       "99978   like live coopersville need special bag anything  \n",
       "99979                            go home till saturday x  \n",
       "99980                                             hows x  \n",
       "99981    foot really bad like bad ever barely walk right  \n",
       "99982     fun health amp safety switch look spritely xxx  \n",
       "99983  waaay long get message ashamed right really as...  \n",
       "99984         repeating problem hope able find something  \n",
       "99985    reply different tweet time see duno hell kateyy  \n",
       "99986                                              think  \n",
       "99987                                       yes glad fun  \n",
       "99988                                                yes  "
      ]
     },
     "execution_count": 24,
     "metadata": {},
     "output_type": "execute_result"
    }
   ],
   "source": [
    "train['normal'].replace('', np.nan, inplace=True)\n",
    "#train.tail(20)\n",
    "train.dropna(subset=['normal'], inplace=True)\n",
    "train.tail(20)"
   ]
  },
  {
   "cell_type": "code",
   "execution_count": 25,
   "metadata": {},
   "outputs": [],
   "source": [
    "from scipy.sparse import hstack\n",
    "from sklearn.feature_extraction.text import CountVectorizer\n",
    "\n",
    "count_vectorizer = CountVectorizer(ngram_range=(1,2))\n",
    "vectorized_data =count_vectorizer.fit_transform(train['normal'])\n",
    "\n",
    "#from sklearn.feature_extraction.text import TfidfVectorizer  \n",
    "#tfidfconverter = TfidfVectorizer(max_features=2000, min_df=5, max_df=0.7, stop_words=stopwords.words('english'))  \n",
    "#X = tfidfconverter.fit_transform(processed_tweets).toarray()\n",
    "\n",
    "indexed_data =hstack((np.array(range(0,vectorized_data.shape[0]))[:,None],vectorized_data))"
   ]
  },
  {
   "cell_type": "code",
   "execution_count": 26,
   "metadata": {},
   "outputs": [],
   "source": [
    "targets = train.iloc[:, 1]\n",
    "\n",
    "from sklearn.model_selection import train_test_split \n",
    "data_train, data_test, targets_train, targets_test =train_test_split(indexed_data, targets, test_size=0.3,random_state=0)\n",
    "data_train_index = data_train[:,0]\n",
    "data_train = data_train[:,1:]\n",
    "data_test_index = data_test[:,0]\n",
    "data_test = data_test[:,1:]"
   ]
  },
  {
   "cell_type": "code",
   "execution_count": 27,
   "metadata": {},
   "outputs": [
    {
     "data": {
      "text/plain": [
       "SVC(kernel='linear')"
      ]
     },
     "execution_count": 27,
     "metadata": {},
     "output_type": "execute_result"
    }
   ],
   "source": [
    "from sklearn import svm\n",
    "clf = svm.SVC(C= 1.0, kernel='linear')\n",
    "clf.fit(data_train, targets_train)"
   ]
  },
  {
   "cell_type": "code",
   "execution_count": 28,
   "metadata": {},
   "outputs": [
    {
     "data": {
      "text/plain": [
       "0.6966192170818505"
      ]
     },
     "execution_count": 28,
     "metadata": {},
     "output_type": "execute_result"
    }
   ],
   "source": [
    "#clf.score(data_test, targets_test)"
   ]
  },
  {
   "cell_type": "code",
   "execution_count": 29,
   "metadata": {},
   "outputs": [
    {
     "name": "stdout",
     "output_type": "stream",
     "text": [
      "[[ 7373  5127]\n",
      " [ 3398 12202]]\n",
      "              precision    recall  f1-score   support\n",
      "\n",
      "           0       0.68      0.59      0.63     12500\n",
      "           1       0.70      0.78      0.74     15600\n",
      "\n",
      "    accuracy                           0.70     28100\n",
      "   macro avg       0.69      0.69      0.69     28100\n",
      "weighted avg       0.70      0.70      0.69     28100\n",
      "\n"
     ]
    }
   ],
   "source": [
    "from sklearn.metrics import accuracy_score, confusion_matrix, precision_recall_fscore_support, classification_report\n",
    "\n",
    "targets_pred = clf.predict(data_test)\n",
    "\n",
    "print(confusion_matrix(targets_test, targets_pred))\n",
    "print(classification_report(targets_test,targets_pred))"
   ]
  },
  {
   "cell_type": "code",
   "execution_count": 30,
   "metadata": {},
   "outputs": [
    {
     "data": {
      "text/plain": [
       "KNeighborsClassifier(n_neighbors=1)"
      ]
     },
     "execution_count": 30,
     "metadata": {},
     "output_type": "execute_result"
    }
   ],
   "source": [
    "#################################################################################################### skip to error test (keeps rising though)\n",
    "from sklearn.neighbors import KNeighborsClassifier  \n",
    "kn = KNeighborsClassifier(n_neighbors=1)  \n",
    "kn.fit(data_train, targets_train)"
   ]
  },
  {
   "cell_type": "code",
   "execution_count": 32,
   "metadata": {},
   "outputs": [
    {
     "name": "stdout",
     "output_type": "stream",
     "text": [
      "[[ 6490  6010]\n",
      " [ 5286 10314]]\n",
      "              precision    recall  f1-score   support\n",
      "\n",
      "           0       0.55      0.52      0.53     12500\n",
      "           1       0.63      0.66      0.65     15600\n",
      "\n",
      "    accuracy                           0.60     28100\n",
      "   macro avg       0.59      0.59      0.59     28100\n",
      "weighted avg       0.60      0.60      0.60     28100\n",
      "\n",
      "0.5980071174377224\n"
     ]
    }
   ],
   "source": [
    "from sklearn.metrics import accuracy_score, confusion_matrix, precision_recall_fscore_support, classification_report\n",
    "\n",
    "ky_pred = kn.predict(data_test)\n",
    "\n",
    "print(confusion_matrix(targets_test, ky_pred))\n",
    "print(classification_report(targets_test, ky_pred))\n",
    "print(accuracy_score(targets_test, ky_pred))"
   ]
  },
  {
   "cell_type": "code",
   "execution_count": 33,
   "metadata": {},
   "outputs": [],
   "source": [
    "error = []\n",
    "\n",
    "# Calculating error for K values between 1 and 40\n",
    "for i in range(1, 7):  \n",
    "    knn = KNeighborsClassifier(n_neighbors=i)\n",
    "    knn.fit(data_train, targets_train)\n",
    "    pred_i = knn.predict(data_test)\n",
    "    error.append(np.mean(pred_i != targets_test))"
   ]
  },
  {
   "cell_type": "code",
   "execution_count": 34,
   "metadata": {},
   "outputs": [
    {
     "data": {
      "text/plain": [
       "Text(0,0.5,'Mean Error')"
      ]
     },
     "execution_count": 34,
     "metadata": {},
     "output_type": "execute_result"
    },
    {
     "data": {
      "image/png": "[encoded data removed]",
      "text/plain": [
       "<Figure size 864x432 with 1 Axes>"
      ]
     },
     "metadata": {
      "needs_background": "light"
     },
     "output_type": "display_data"
    }
   ],
   "source": [
    "plt.figure(figsize=(12, 6))  \n",
    "plt.plot(range(1, 7), error, color='red', linestyle='dashed', marker='o',  \n",
    "         markerfacecolor='blue', markersize=7)\n",
    "plt.title('Error Rate K Value')  \n",
    "plt.xlabel('K Value')  \n",
    "plt.ylabel('Mean Error')"
   ]
  },
  {
   "cell_type": "code",
   "execution_count": 39,
   "metadata": {},
   "outputs": [
    {
     "data": {
      "text/plain": [
       "KNeighborsClassifier(n_neighbors=11)"
      ]
     },
     "execution_count": 39,
     "metadata": {},
     "output_type": "execute_result"
    }
   ],
   "source": [
    "from sklearn.neighbors import KNeighborsClassifier  \n",
    "kn = KNeighborsClassifier(n_neighbors=11)  \n",
    "kn.fit(data_train, targets_train)"
   ]
  },
  {
   "cell_type": "code",
   "execution_count": 40,
   "metadata": {},
   "outputs": [
    {
     "name": "stdout",
     "output_type": "stream",
     "text": [
      "[[ 5114  7386]\n",
      " [ 2922 12678]]\n",
      "              precision    recall  f1-score   support\n",
      "\n",
      "           0       0.64      0.41      0.50     12500\n",
      "           1       0.63      0.81      0.71     15600\n",
      "\n",
      "    accuracy                           0.63     28100\n",
      "   macro avg       0.63      0.61      0.60     28100\n",
      "weighted avg       0.63      0.63      0.62     28100\n",
      "\n",
      "0.6331672597864769\n"
     ]
    }
   ],
   "source": [
    "from sklearn.metrics import accuracy_score, confusion_matrix, precision_recall_fscore_support, classification_report\n",
    "\n",
    "ky_pred = kn.predict(data_test)\n",
    "\n",
    "print(confusion_matrix(targets_test, ky_pred))\n",
    "print(classification_report(targets_test, ky_pred))\n",
    "print(accuracy_score(targets_test, ky_pred))"
   ]
  },
  {
   "cell_type": "code",
   "execution_count": 44,
   "metadata": {},
   "outputs": [
    {
     "data": {
      "text/plain": [
       "RandomForestClassifier(max_depth=100, random_state=0)"
      ]
     },
     "execution_count": 44,
     "metadata": {},
     "output_type": "execute_result"
    }
   ],
   "source": [
    "###################################################################################\n",
    "from sklearn.ensemble import RandomForestClassifier\n",
    "rfc = RandomForestClassifier(n_estimators=100, random_state=0, max_depth=100)\n",
    "rfc.fit(data_train, targets_train)"
   ]
  },
  {
   "cell_type": "code",
   "execution_count": 45,
   "metadata": {},
   "outputs": [
    {
     "name": "stdout",
     "output_type": "stream",
     "text": [
      "[[ 2906  9594]\n",
      " [  622 14978]]\n",
      "              precision    recall  f1-score   support\n",
      "\n",
      "           0       0.82      0.23      0.36     12500\n",
      "           1       0.61      0.96      0.75     15600\n",
      "\n",
      "    accuracy                           0.64     28100\n",
      "   macro avg       0.72      0.60      0.55     28100\n",
      "weighted avg       0.70      0.64      0.58     28100\n",
      "\n",
      "0.6364412811387901\n"
     ]
    }
   ],
   "source": [
    "from sklearn.metrics import accuracy_score, confusion_matrix, precision_recall_fscore_support, classification_report\n",
    "\n",
    "rfy_pred = rfc.predict(data_test)\n",
    "\n",
    "print(confusion_matrix(targets_test, rfy_pred))\n",
    "print(classification_report(targets_test, rfy_pred))\n",
    "print(accuracy_score(targets_test, rfy_pred))"
   ]
  },
  {
   "cell_type": "code",
   "execution_count": 49,
   "metadata": {},
   "outputs": [
    {
     "data": {
      "text/plain": [
       "GradientBoostingClassifier(random_state=0)"
      ]
     },
     "execution_count": 49,
     "metadata": {},
     "output_type": "execute_result"
    }
   ],
   "source": [
    "#########################################################################################################################\n",
    "from sklearn.ensemble import GradientBoostingClassifier\n",
    "gb = GradientBoostingClassifier(random_state=0)\n",
    "gb.fit(data_train, targets_train)"
   ]
  },
  {
   "cell_type": "code",
   "execution_count": 50,
   "metadata": {},
   "outputs": [
    {
     "name": "stdout",
     "output_type": "stream",
     "text": [
      "[[ 4061  8439]\n",
      " [ 1291 14309]]\n",
      "              precision    recall  f1-score   support\n",
      "\n",
      "           0       0.76      0.32      0.45     12500\n",
      "           1       0.63      0.92      0.75     15600\n",
      "\n",
      "    accuracy                           0.65     28100\n",
      "   macro avg       0.69      0.62      0.60     28100\n",
      "weighted avg       0.69      0.65      0.62     28100\n",
      "\n",
      "0.6537366548042705\n"
     ]
    }
   ],
   "source": [
    "from sklearn.metrics import classification_report, confusion_matrix, accuracy_score\n",
    "\n",
    "gb_pred = gb.predict(data_test)\n",
    "\n",
    "print(confusion_matrix(targets_test,gb_pred))\n",
    "print(classification_report(targets_test,gb_pred))\n",
    "print(accuracy_score(targets_test, gb_pred))"
   ]
  },
  {
   "cell_type": "code",
   "execution_count": 54,
   "metadata": {},
   "outputs": [
    {
     "name": "stdout",
     "output_type": "stream",
     "text": [
      "[[10855 18061]\n",
      " [   73 36576]]\n",
      "              precision    recall  f1-score   support\n",
      "\n",
      "           0       0.99      0.38      0.54     28916\n",
      "           1       0.67      1.00      0.80     36649\n",
      "\n",
      "    accuracy                           0.72     65565\n",
      "   macro avg       0.83      0.69      0.67     65565\n",
      "weighted avg       0.81      0.72      0.69     65565\n",
      "\n",
      "0.7234195073591093\n"
     ]
    }
   ],
   "source": [
    "from sklearn.metrics import classification_report, confusion_matrix, accuracy_score\n",
    "\n",
    "gb_pred = rfc.predict(data_train)\n",
    "\n",
    "print(confusion_matrix(targets_train,gb_pred))\n",
    "print(classification_report(targets_train,gb_pred))\n",
    "print(accuracy_score(targets_train, gb_pred))"
   ]
  },
  {
   "cell_type": "code",
   "execution_count": null,
   "metadata": {},
   "outputs": [],
   "source": [
    "#gb 65 x 64\n",
    "#kn 70 x 63\n",
    "#svm 97 x 70\n",
    "#rf 72 x 63\n"
   ]
  }
 ],
 "metadata": {
  "kernelspec": {
   "display_name": "Python 3",
   "language": "python",
   "name": "python3"
  },
  "language_info": {
   "codemirror_mode": {
    "name": "ipython",
    "version": 3
   },
   "file_extension": ".py",
   "mimetype": "text/x-python",
   "name": "python",
   "nbconvert_exporter": "python",
   "pygments_lexer": "ipython3",
   "version": "3.7.0"
  }
 },
 "nbformat": 4,
 "nbformat_minor": 2
}
