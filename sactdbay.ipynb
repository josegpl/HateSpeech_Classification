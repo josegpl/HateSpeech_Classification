{
 "cells": [
  {
   "cell_type": "code",
   "execution_count": 79,
   "metadata": {},
   "outputs": [],
   "source": [
    "import numpy as np\n",
    "import pandas as pd\n",
    "\n",
    "import matplotlib.pyplot as plt\n",
    "import seaborn as sns\n",
    "\n",
    "import warnings"
   ]
  },
  {
   "cell_type": "code",
   "execution_count": 80,
   "metadata": {},
   "outputs": [
    {
     "name": "stdout",
     "output_type": "stream",
     "text": [
      "(99989, 3)\n"
     ]
    }
   ],
   "source": [
    "train = pd.read_csv('C:\\\\Users\\\\guilh_000\\Documents\\\\tweetsclassify\\\\train.csv', encoding='latin-1')\n",
    "\n",
    "print(train.shape)"
   ]
  },
  {
   "cell_type": "code",
   "execution_count": 81,
   "metadata": {},
   "outputs": [
    {
     "data": {
      "text/plain": [
       "1    56457\n",
       "0    43532\n",
       "Name: Sentiment, dtype: int64"
      ]
     },
     "execution_count": 81,
     "metadata": {},
     "output_type": "execute_result"
    }
   ],
   "source": [
    "train['Sentiment'].value_counts()"
   ]
  },
  {
   "cell_type": "code",
   "execution_count": 82,
   "metadata": {},
   "outputs": [
    {
     "data": {
      "text/plain": [
       "1    44332\n",
       "0    43532\n",
       "Name: Sentiment, dtype: int64"
      ]
     },
     "execution_count": 82,
     "metadata": {},
     "output_type": "execute_result"
    }
   ],
   "source": [
    "trainone = train[train['Sentiment']==1].head(12125)\n",
    "#trainone.head(10)\n",
    "train = train.drop(train.index[trainone.index])\n",
    "train['Sentiment'].value_counts()"
   ]
  },
  {
   "cell_type": "code",
   "execution_count": 83,
   "metadata": {},
   "outputs": [],
   "source": [
    "from textblob import TextBlob\n",
    "def lemmatize_with_postag(sentence):\n",
    "    sent = TextBlob(sentence)\n",
    "    tag_dict = {\"J\":'a',\"N\":'n',\"V\":'v',\"R\":'r'}\n",
    "    words_and_tags = [(w, tag_dict.get(pos[0],'n'))for w, pos in sent.tags]\n",
    "    lemmatized_list = [wd.lemmatize(tag)for wd, tag in words_and_tags]\n",
    "    return \" \".join(lemmatized_list)\n",
    "\n",
    "import string\n",
    "import nltk\n",
    "from nltk.corpus import stopwords\n",
    "import re\n",
    "def normalizer(tweet):\n",
    "    punct = list(string.punctuation)\n",
    "    stop_words = stopwords.words('english')\n",
    "    additional_stop_words = ['RT','rt','via','...','http','twitpic','tinyurl','www', 'amp']\n",
    "    stopword_list = punct + stop_words + additional_stop_words\n",
    "    \n",
    "    tweet = re.sub(\"(@[A-Za-z0-9]+)|(#[A-Za-z0-9]+)\", \" \", tweet)\n",
    "    tweet_ = re.sub(\"(\\w+:\\/\\/\\S+)\", \" \", tweet)\n",
    "    tweet__ = re.sub(\"[^a-zA-Z]\", \" \", tweet_)\n",
    "    lemmatized = lemmatize_with_postag(tweet__)\n",
    "    tokens = nltk.word_tokenize(lemmatized)[2:]\n",
    "    lower_case = [l.lower() for l in tokens]\n",
    "    filtered_result = list(filter(lambda l: l not in stopword_list, lower_case))\n",
    "    return filtered_result"
   ]
  },
  {
   "cell_type": "code",
   "execution_count": 84,
   "metadata": {},
   "outputs": [],
   "source": [
    "train['normalized'] = train.SentimentText.apply(normalizer)\n",
    "train['normal'] = [' '.join(map(str, l)) for l in train['normalized']]"
   ]
  },
  {
   "cell_type": "code",
   "execution_count": 85,
   "metadata": {},
   "outputs": [],
   "source": [
    "train['normal'].replace('', np.nan, inplace=True)\n",
    "train.dropna(subset=['normal'], inplace=True)\n",
    "#train.tail(20)"
   ]
  },
  {
   "cell_type": "code",
   "execution_count": 86,
   "metadata": {},
   "outputs": [
    {
     "data": {
      "text/plain": [
       "0    41414\n",
       "1    40860\n",
       "Name: Sentiment, dtype: int64"
      ]
     },
     "execution_count": 86,
     "metadata": {},
     "output_type": "execute_result"
    }
   ],
   "source": [
    "train['Sentiment'].value_counts()"
   ]
  },
  {
   "cell_type": "code",
   "execution_count": 91,
   "metadata": {},
   "outputs": [],
   "source": [
    "from scipy.sparse import hstack\n",
    "from sklearn.feature_extraction.text import CountVectorizer\n",
    "from sklearn.feature_extraction.text import TfidfVectorizer, TfidfTransformer  \n",
    "\n",
    "count_vectorizer = CountVectorizer(ngram_range=(1,2))\n",
    "vectorized_data =count_vectorizer.fit_transform(train['normal'])\n",
    "\n",
    "#tfidfconverter = TfidfTransformer()  \n",
    "#tfid_data = tfidfconverter.fit_transform(vectorized_data)\n",
    "\n",
    "#indexed_data =hstack((np.array(range(0,tfid_data.shape[0]))[:,None],tfid_data))\n",
    "\n",
    "indexed_data =hstack((np.array(range(0,vectorized_data.shape[0]))[:,None],vectorized_data))"
   ]
  },
  {
   "cell_type": "code",
   "execution_count": 92,
   "metadata": {},
   "outputs": [],
   "source": [
    "targets = train.iloc[:, 1]\n",
    "\n",
    "from sklearn.model_selection import train_test_split \n",
    "data_train, data_test, targets_train, targets_test =train_test_split(indexed_data, targets, test_size=0.3,random_state=0)\n",
    "data_train_index = data_train[:,0]\n",
    "data_train = data_train[:,1:]\n",
    "data_test_index = data_test[:,0]\n",
    "data_test = data_test[:,1:]"
   ]
  },
  {
   "cell_type": "code",
   "execution_count": 97,
   "metadata": {},
   "outputs": [],
   "source": [
    "error = []\n",
    "\n",
    "# Calculating error for K values between 1 and 40\n",
    "for i in range(1, 10):  \n",
    "    knn = KNeighborsClassifier(n_neighbors=i)\n",
    "    knn.fit(data_train, targets_train)\n",
    "    pred_i = knn.predict(data_test)\n",
    "    error.append(np.mean(pred_i != targets_test))"
   ]
  },
  {
   "cell_type": "code",
   "execution_count": 98,
   "metadata": {},
   "outputs": [
    {
     "data": {
      "text/plain": [
       "Text(0,0.5,'Mean Error')"
      ]
     },
     "execution_count": 98,
     "metadata": {},
     "output_type": "execute_result"
    },
    {
     "data": {
      "image/png": "[encoded data removed]",
      "text/plain": [
       "<Figure size 864x432 with 1 Axes>"
      ]
     },
     "metadata": {
      "needs_background": "light"
     },
     "output_type": "display_data"
    }
   ],
   "source": [
    "plt.figure(figsize=(12, 6))  \n",
    "plt.plot(range(1, 10), error, color='red', linestyle='dashed', marker='o',  \n",
    "         markerfacecolor='blue', markersize=10)\n",
    "plt.xticks(np.arange(1,10,2), np.arange(1,10,2))\n",
    "plt.title('Error Rate K Value')  \n",
    "plt.xlabel('K Value')  \n",
    "plt.ylabel('Mean Error')"
   ]
  },
  {
   "cell_type": "code",
   "execution_count": 99,
   "metadata": {},
   "outputs": [
    {
     "data": {
      "text/plain": [
       "KNeighborsClassifier(n_neighbors=9)"
      ]
     },
     "execution_count": 99,
     "metadata": {},
     "output_type": "execute_result"
    }
   ],
   "source": [
    "from sklearn.neighbors import KNeighborsClassifier  \n",
    "kn = KNeighborsClassifier(n_neighbors=9)  \n",
    "kn.fit(data_train, targets_train)"
   ]
  },
  {
   "cell_type": "code",
   "execution_count": 100,
   "metadata": {},
   "outputs": [
    {
     "name": "stdout",
     "output_type": "stream",
     "text": [
      "[[6236 6184]\n",
      " [3124 9139]]\n",
      "              precision    recall  f1-score   support\n",
      "\n",
      "           0       0.67      0.50      0.57     12420\n",
      "           1       0.60      0.75      0.66     12263\n",
      "\n",
      "    accuracy                           0.62     24683\n",
      "   macro avg       0.63      0.62      0.62     24683\n",
      "weighted avg       0.63      0.62      0.62     24683\n",
      "\n",
      "0.6228983510918445\n"
     ]
    }
   ],
   "source": [
    "from sklearn.metrics import accuracy_score, confusion_matrix, precision_recall_fscore_support, classification_report\n",
    "\n",
    "ky_pred = kn.predict(data_test)\n",
    "\n",
    "print(confusion_matrix(targets_test, ky_pred))\n",
    "print(classification_report(targets_test, ky_pred))\n",
    "print(accuracy_score(targets_test, ky_pred))"
   ]
  },
  {
   "cell_type": "code",
   "execution_count": 101,
   "metadata": {},
   "outputs": [
    {
     "data": {
      "text/plain": [
       "SVC(C=1, kernel='linear')"
      ]
     },
     "execution_count": 101,
     "metadata": {},
     "output_type": "execute_result"
    }
   ],
   "source": [
    "###########################################################################################################\n",
    "from sklearn import svm\n",
    "clf = svm.SVC(C= 1, kernel='linear')\n",
    "clf.fit(data_train, targets_train)"
   ]
  },
  {
   "cell_type": "code",
   "execution_count": 102,
   "metadata": {},
   "outputs": [
    {
     "name": "stdout",
     "output_type": "stream",
     "text": [
      "[[8086 4334]\n",
      " [3293 8970]]\n",
      "              precision    recall  f1-score   support\n",
      "\n",
      "           0       0.71      0.65      0.68     12420\n",
      "           1       0.67      0.73      0.70     12263\n",
      "\n",
      "    accuracy                           0.69     24683\n",
      "   macro avg       0.69      0.69      0.69     24683\n",
      "weighted avg       0.69      0.69      0.69     24683\n",
      "\n",
      "0.691001904144553\n"
     ]
    }
   ],
   "source": [
    "from sklearn.metrics import accuracy_score, confusion_matrix, precision_recall_fscore_support, classification_report\n",
    "\n",
    "targets_pred = clf.predict(data_test)\n",
    "\n",
    "print(confusion_matrix(targets_test, targets_pred))\n",
    "print(classification_report(targets_test,targets_pred))\n",
    "print(accuracy_score(targets_test, targets_pred))\n"
   ]
  },
  {
   "cell_type": "code",
   "execution_count": 124,
   "metadata": {},
   "outputs": [],
   "source": [
    "#############################################################################################################\n",
    "from sklearn.naive_bayes import MultinomialNB\n",
    "nbc = MultinomialNB(fit_prior=True, alpha=1.0).fit(data_train, targets_train)"
   ]
  },
  {
   "cell_type": "code",
   "execution_count": 125,
   "metadata": {},
   "outputs": [
    {
     "name": "stdout",
     "output_type": "stream",
     "text": [
      "[[8903 3517]\n",
      " [3991 8272]]\n",
      "              precision    recall  f1-score   support\n",
      "\n",
      "           0       0.69      0.72      0.70     12420\n",
      "           1       0.70      0.67      0.69     12263\n",
      "\n",
      "    accuracy                           0.70     24683\n",
      "   macro avg       0.70      0.70      0.70     24683\n",
      "weighted avg       0.70      0.70      0.70     24683\n",
      "\n",
      "0.6958230360977191\n"
     ]
    }
   ],
   "source": [
    "from sklearn.metrics import accuracy_score, confusion_matrix, precision_recall_fscore_support, classification_report\n",
    "\n",
    "nb_pred = nbc.predict(data_test)\n",
    "\n",
    "print(confusion_matrix(targets_test, nb_pred))\n",
    "print(classification_report(targets_test,nb_pred))\n",
    "print(accuracy_score(targets_test, nb_pred))"
   ]
  },
  {
   "cell_type": "code",
   "execution_count": 127,
   "metadata": {},
   "outputs": [
    {
     "name": "stdout",
     "output_type": "stream",
     "text": [
      "{'alpha': 3.0, 'fit_prior': False}\n",
      "0.6951607021930509\n"
     ]
    }
   ],
   "source": [
    "#CHECK BEST PARAMETERS ONLY RUN IF FAST GPU\n",
    "\n",
    "from sklearn.model_selection import GridSearchCV\n",
    "hiperparameters = {'alpha': (1.0,1.5,2.0,2.5,3.0),'fit_prior':[True, False]}\n",
    "grid = GridSearchCV(MultinomialNB(), hiperparameters, cv=3)\n",
    "grid.fit(data_train, targets_train)\n",
    "\n",
    "print(grid.best_params_)\n",
    "print(grid.best_score_)"
   ]
  },
  {
   "cell_type": "code",
   "execution_count": 128,
   "metadata": {},
   "outputs": [],
   "source": [
    "#############################################################################################################\n",
    "from sklearn.naive_bayes import MultinomialNB\n",
    "nbm = MultinomialNB(fit_prior=False, alpha=3.0).fit(data_train, targets_train)"
   ]
  },
  {
   "cell_type": "code",
   "execution_count": 129,
   "metadata": {
    "scrolled": true
   },
   "outputs": [
    {
     "name": "stdout",
     "output_type": "stream",
     "text": [
      "[[9446 2974]\n",
      " [4401 7862]]\n",
      "              precision    recall  f1-score   support\n",
      "\n",
      "           0       0.68      0.76      0.72     12420\n",
      "           1       0.73      0.64      0.68     12263\n",
      "\n",
      "    accuracy                           0.70     24683\n",
      "   macro avg       0.70      0.70      0.70     24683\n",
      "weighted avg       0.70      0.70      0.70     24683\n",
      "\n",
      "0.7012113600453753\n"
     ]
    }
   ],
   "source": [
    "from sklearn.metrics import accuracy_score, confusion_matrix, precision_recall_fscore_support, classification_report\n",
    "\n",
    "nbm_pred = nbm.predict(data_test)\n",
    "\n",
    "print(confusion_matrix(targets_test, nbm_pred))\n",
    "print(classification_report(targets_test,nbm_pred))\n",
    "print(accuracy_score(targets_test, nbm_pred))"
   ]
  },
  {
   "cell_type": "code",
   "execution_count": 184,
   "metadata": {},
   "outputs": [
    {
     "name": "stdout",
     "output_type": "stream",
     "text": [
      "Positive\n"
     ]
    }
   ],
   "source": [
    "tweet_test = ['Today was a good day']\n",
    "x = count_vectorizer.transform(tweet_test)\n",
    "if(nbm.predict(x)==1):\n",
    "    print('Positive')\n",
    "else:\n",
    "    print('Negative')"
   ]
  },
  {
   "cell_type": "code",
   "execution_count": 180,
   "metadata": {},
   "outputs": [
    {
     "name": "stdout",
     "output_type": "stream",
     "text": [
      "[[26738  2256]\n",
      " [ 4113 24484]]\n",
      "              precision    recall  f1-score   support\n",
      "\n",
      "           0       0.87      0.92      0.89     28994\n",
      "           1       0.92      0.86      0.88     28597\n",
      "\n",
      "    accuracy                           0.89     57591\n",
      "   macro avg       0.89      0.89      0.89     57591\n",
      "weighted avg       0.89      0.89      0.89     57591\n",
      "\n",
      "0.8894098036151482\n"
     ]
    }
   ],
   "source": [
    "from sklearn.metrics import accuracy_score, confusion_matrix, precision_recall_fscore_support, classification_report\n",
    "\n",
    "nbmt_pred = nbm.predict(data_train)\n",
    "\n",
    "print(confusion_matrix(targets_train, nbmt_pred))\n",
    "print(classification_report(targets_train,nbmt_pred))\n",
    "print(accuracy_score(targets_train, nbmt_pred))"
   ]
  },
  {
   "cell_type": "code",
   "execution_count": 179,
   "metadata": {},
   "outputs": [
    {
     "name": "stdout",
     "output_type": "stream",
     "text": [
      "0    28994\n",
      "1    28597\n",
      "Name: Sentiment, dtype: int64 [28994 28994]\n"
     ]
    }
   ],
   "source": []
  },
  {
   "cell_type": "code",
   "execution_count": null,
   "metadata": {},
   "outputs": [],
   "source": []
  }
 ],
 "metadata": {
  "kernelspec": {
   "display_name": "Python 3",
   "language": "python",
   "name": "python3"
  },
  "language_info": {
   "codemirror_mode": {
    "name": "ipython",
    "version": 3
   },
   "file_extension": ".py",
   "mimetype": "text/x-python",
   "name": "python",
   "nbconvert_exporter": "python",
   "pygments_lexer": "ipython3",
   "version": "3.7.0"
  }
 },
 "nbformat": 4,
 "nbformat_minor": 2
}
