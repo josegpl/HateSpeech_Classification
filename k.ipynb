{
 "cells": [
  {
   "cell_type": "code",
   "execution_count": 2,
   "metadata": {},
   "outputs": [],
   "source": [
    "import numpy as np\n",
    "import pandas as pd\n",
    "\n",
    "import matplotlib.pyplot as plt\n",
    "import seaborn as sns\n",
    "\n",
    "import warnings"
   ]
  },
  {
   "cell_type": "code",
   "execution_count": 3,
   "metadata": {},
   "outputs": [
    {
     "name": "stdout",
     "output_type": "stream",
     "text": [
      "(31962, 3)\n",
      "(17197, 2)\n"
     ]
    }
   ],
   "source": [
    "train = pd.read_csv('C:\\\\Users\\\\guilh_000\\Documents\\\\tweetsclassify\\\\train_tweet.csv')\n",
    "test = pd.read_csv('C:\\\\Users\\\\guilh_000\\\\Documents\\\\tweetsclassify\\\\test_tweets.csv')\n",
    "\n",
    "print(train.shape)\n",
    "print(test.shape)"
   ]
  },
  {
   "cell_type": "code",
   "execution_count": 4,
   "metadata": {},
   "outputs": [
    {
     "data": {
      "text/plain": [
       "id       False\n",
       "tweet    False\n",
       "dtype: bool"
      ]
     },
     "execution_count": 4,
     "metadata": {},
     "output_type": "execute_result"
    }
   ],
   "source": [
    "train.isnull().any()\n",
    "test.isnull().any()"
   ]
  },
  {
   "cell_type": "code",
   "execution_count": 5,
   "metadata": {},
   "outputs": [],
   "source": [
    "from textblob import TextBlob\n",
    "def lemmatize_with_postag(sentence):\n",
    "    sent = TextBlob(sentence)\n",
    "    tag_dict = {\"J\":'a',\"N\":'n',\"V\":'v',\"R\":'r'}\n",
    "    words_and_tags = [(w, tag_dict.get(pos[0],'n'))for w, pos in sent.tags]\n",
    "    lemmatized_list = [wd.lemmatize(tag)for wd, tag in words_and_tags]\n",
    "    return \" \".join(lemmatized_list)\n",
    "\n",
    "import string\n",
    "import nltk\n",
    "from nltk.corpus import stopwords\n",
    "import re\n",
    "def normalizer(tweet):\n",
    "    punct = list(string.punctuation)\n",
    "    stop_words = stopwords.words('english')\n",
    "    additional_stop_words = ['RT','rt','via','...','http','twitpic','tinyurl','www','amp']\n",
    "    stopword_list = punct + stop_words + additional_stop_words\n",
    "    \n",
    "    tweet = re.sub(\"(@[A-Za-z0-9]+)|(#[A-Za-z0-9]+)\", \" \", tweet)\n",
    "    tweet_ = re.sub(\"(\\w+:\\/\\/\\S+)\", \" \", tweet)\n",
    "    tweet__ = re.sub(\"[^a-zA-Z]\", \" \", tweet_)\n",
    "    lemmatized = lemmatize_with_postag(tweet__)\n",
    "    tokens = nltk.word_tokenize(lemmatized)[2:]\n",
    "    lower_case = [l.lower() for l in tokens]\n",
    "    filtered_result = list(filter(lambda l: l not in stopword_list, lower_case))\n",
    "    return filtered_result"
   ]
  },
  {
   "cell_type": "code",
   "execution_count": 6,
   "metadata": {},
   "outputs": [],
   "source": [
    "train['normalized'] = train.tweet.apply(normalizer)\n",
    "train['normal'] = [' '.join(map(str, l)) for l in train['normalized']]"
   ]
  },
  {
   "cell_type": "code",
   "execution_count": 7,
   "metadata": {},
   "outputs": [],
   "source": [
    "from scipy.sparse import hstack\n",
    "from sklearn.feature_extraction.text import CountVectorizer\n",
    "\n",
    "count_vectorizer = CountVectorizer(ngram_range=(1,2))\n",
    "vectorized_data =count_vectorizer.fit_transform(train['normal'])\n",
    "indexed_data =hstack((np.array(range(0,vectorized_data.shape[0]))[:,None],vectorized_data))"
   ]
  },
  {
   "cell_type": "code",
   "execution_count": 48,
   "metadata": {},
   "outputs": [],
   "source": [
    "targets = train.iloc[:, 1]\n",
    "\n",
    "from sklearn.model_selection import train_test_split \n",
    "data_train, data_test, targets_train, targets_test =train_test_split(indexed_data, targets, test_size=0.25,random_state=0)\n",
    "data_train_index = data_train[:,0]\n",
    "data_train = data_train[:,1:]\n",
    "data_test_index = data_test[:,0]\n",
    "data_test = data_test[:,1:]"
   ]
  },
  {
   "cell_type": "code",
   "execution_count": 58,
   "metadata": {},
   "outputs": [
    {
     "data": {
      "text/plain": [
       "KNeighborsClassifier(n_neighbors=7)"
      ]
     },
     "execution_count": 58,
     "metadata": {},
     "output_type": "execute_result"
    }
   ],
   "source": [
    "from sklearn.neighbors import KNeighborsClassifier  \n",
    "clf = KNeighborsClassifier(n_neighbors=7)  \n",
    "clf.fit(data_train, targets_train)"
   ]
  },
  {
   "cell_type": "code",
   "execution_count": 59,
   "metadata": {},
   "outputs": [],
   "source": [
    "targets_pred = clf.predict(data_test)"
   ]
  },
  {
   "cell_type": "code",
   "execution_count": 60,
   "metadata": {},
   "outputs": [
    {
     "name": "stdout",
     "output_type": "stream",
     "text": [
      "[[7455    5]\n",
      " [ 455   76]]\n",
      "              precision    recall  f1-score   support\n",
      "\n",
      "           0       0.94      1.00      0.97      7460\n",
      "           1       0.94      0.14      0.25       531\n",
      "\n",
      "    accuracy                           0.94      7991\n",
      "   macro avg       0.94      0.57      0.61      7991\n",
      "weighted avg       0.94      0.94      0.92      7991\n",
      "\n",
      "0.9424352396446002\n"
     ]
    }
   ],
   "source": [
    "from sklearn.metrics import classification_report, confusion_matrix, accuracy_score\n",
    "\n",
    "print(confusion_matrix(targets_test,targets_pred))\n",
    "print(classification_report(targets_test,targets_pred))\n",
    "print(accuracy_score(targets_test, targets_pred))"
   ]
  },
  {
   "cell_type": "code",
   "execution_count": 30,
   "metadata": {},
   "outputs": [],
   "source": [
    "#change to 15 or 10\n",
    "\n",
    "error = []\n",
    "\n",
    "# Calculating error for K values between 1 and 40\n",
    "for i in range(1, 20):  \n",
    "    knn = KNeighborsClassifier(n_neighbors=i)\n",
    "    knn.fit(data_train, targets_train)\n",
    "    pred_i = knn.predict(data_test)\n",
    "    error.append(np.mean(pred_i != targets_test))"
   ]
  },
  {
   "cell_type": "code",
   "execution_count": 32,
   "metadata": {},
   "outputs": [
    {
     "data": {
      "text/plain": [
       "Text(0,0.5,'Mean Error')"
      ]
     },
     "execution_count": 32,
     "metadata": {},
     "output_type": "execute_result"
    },
    {
     "data": {
      "image/png": "[encoded data removed]",
      "text/plain": [
       "<Figure size 864x432 with 1 Axes>"
      ]
     },
     "metadata": {
      "needs_background": "light"
     },
     "output_type": "display_data"
    }
   ],
   "source": [
    "plt.figure(figsize=(12, 6))  \n",
    "plt.plot(range(1, 20), error, color='red', linestyle='dashed', marker='o',  \n",
    "         markerfacecolor='blue', markersize=20)\n",
    "plt.title('Error Rate K Value')  \n",
    "plt.xlabel('K Value')  \n",
    "plt.ylabel('Mean Error')"
   ]
  },
  {
   "cell_type": "code",
   "execution_count": 17,
   "metadata": {},
   "outputs": [
    {
     "data": {
      "text/plain": [
       "KNeighborsClassifier()"
      ]
     },
     "execution_count": 17,
     "metadata": {},
     "output_type": "execute_result"
    }
   ],
   "source": [
    "from sklearn.neighbors import KNeighborsClassifier  \n",
    "clf = KNeighborsClassifier(n_neighbors=5)  \n",
    "clf.fit(data_train, targets_train)"
   ]
  },
  {
   "cell_type": "code",
   "execution_count": 18,
   "metadata": {},
   "outputs": [],
   "source": [
    "y_pred = clf.predict(data_test)"
   ]
  },
  {
   "cell_type": "code",
   "execution_count": 19,
   "metadata": {},
   "outputs": [
    {
     "name": "stdout",
     "output_type": "stream",
     "text": [
      "[[7442   18]\n",
      " [ 435   96]]\n",
      "              precision    recall  f1-score   support\n",
      "\n",
      "           0       0.94      1.00      0.97      7460\n",
      "           1       0.84      0.18      0.30       531\n",
      "\n",
      "    accuracy                           0.94      7991\n",
      "   macro avg       0.89      0.59      0.63      7991\n",
      "weighted avg       0.94      0.94      0.93      7991\n",
      "\n",
      "0.9433112251282693\n"
     ]
    }
   ],
   "source": [
    "from sklearn.metrics import classification_report, confusion_matrix, accuracy_score\n",
    "\n",
    "print(confusion_matrix(targets_test,y_pred))\n",
    "print(classification_report(targets_test,y_pred))\n",
    "print(accuracy_score(targets_test, y_pred))"
   ]
  },
  {
   "cell_type": "code",
   "execution_count": 23,
   "metadata": {},
   "outputs": [
    {
     "name": "stdout",
     "output_type": "stream",
     "text": [
      "0    22260\n",
      "1     1711\n",
      "Name: label, dtype: int64 [22260 22260]\n"
     ]
    }
   ],
   "source": [
    "#no difference\n",
    "from imblearn.over_sampling import SMOTE\n",
    "#import numpy as np\n",
    "sm = SMOTE(random_state=12)\n",
    "data_train_res, targets_train_res = sm.fit_sample(data_train, targets_train)\n",
    "print (targets_train.value_counts() , np.bincount(targets_train_res))"
   ]
  },
  {
   "cell_type": "code",
   "execution_count": 45,
   "metadata": {},
   "outputs": [
    {
     "data": {
      "text/plain": [
       "KNeighborsClassifier(n_neighbors=7)"
      ]
     },
     "execution_count": 45,
     "metadata": {},
     "output_type": "execute_result"
    }
   ],
   "source": [
    "from sklearn.neighbors import KNeighborsClassifier  \n",
    "mdl = KNeighborsClassifier(n_neighbors=7)  \n",
    "mdl.fit(data_train_res, targets_train_res)"
   ]
  },
  {
   "cell_type": "code",
   "execution_count": 46,
   "metadata": {},
   "outputs": [],
   "source": [
    "targets_pred = mdl.predict(data_test)"
   ]
  },
  {
   "cell_type": "code",
   "execution_count": 47,
   "metadata": {},
   "outputs": [
    {
     "name": "stdout",
     "output_type": "stream",
     "text": [
      "[[4095 3365]\n",
      " [ 114  417]]\n",
      "              precision    recall  f1-score   support\n",
      "\n",
      "           0       0.97      0.55      0.70      7460\n",
      "           1       0.11      0.79      0.19       531\n",
      "\n",
      "    accuracy                           0.56      7991\n",
      "   macro avg       0.54      0.67      0.45      7991\n",
      "weighted avg       0.92      0.56      0.67      7991\n",
      "\n",
      "0.5646352146164435\n"
     ]
    }
   ],
   "source": [
    "from sklearn.metrics import classification_report, confusion_matrix, accuracy_score\n",
    "\n",
    "print(confusion_matrix(targets_test,targets_pred))\n",
    "print(classification_report(targets_test,targets_pred))\n",
    "print(accuracy_score(targets_test, targets_pred))"
   ]
  },
  {
   "cell_type": "code",
   "execution_count": 61,
   "metadata": {},
   "outputs": [],
   "source": [
    "#SMOTE\n",
    "#3 = 93.4a 27 1r\n",
    "#1 = 93.5a 39 1r\n",
    "#5 = 58.37a 77 1r\n",
    "#7 = 56.54a 79 1r\n",
    "\n",
    "#NO\n",
    "#1 = 94.1 37 1r\n",
    "#3 = 94.2 21 1r\n",
    "#5 = 94.3 18 1r\n",
    "#7 = 94.2 18 1r"
   ]
  },
  {
   "cell_type": "code",
   "execution_count": 62,
   "metadata": {},
   "outputs": [],
   "source": [
    "errors = []\n",
    "\n",
    "# Calculating error for K values between 1 and 40\n",
    "for i in range(1, 15):  \n",
    "    knn = KNeighborsClassifier(n_neighbors=i)\n",
    "    knn.fit(data_train_res, targets_train_res)\n",
    "    pred_i = knn.predict(data_test)\n",
    "    errors.append(np.mean(pred_i != targets_test))"
   ]
  },
  {
   "cell_type": "code",
   "execution_count": 63,
   "metadata": {},
   "outputs": [
    {
     "data": {
      "text/plain": [
       "Text(0,0.5,'Mean Error')"
      ]
     },
     "execution_count": 63,
     "metadata": {},
     "output_type": "execute_result"
    },
    {
     "data": {
      "image/png": "[encoded data removed]",
      "text/plain": [
       "<Figure size 864x432 with 1 Axes>"
      ]
     },
     "metadata": {
      "needs_background": "light"
     },
     "output_type": "display_data"
    }
   ],
   "source": [
    "plt.figure(figsize=(12, 6))  \n",
    "plt.plot(range(1, 15), errors, color='red', linestyle='dashed', marker='o',  \n",
    "         markerfacecolor='blue', markersize=15)\n",
    "plt.title('Error Rate K Value')  \n",
    "plt.xlabel('K Value')  \n",
    "plt.ylabel('Mean Error')"
   ]
  },
  {
   "cell_type": "code",
   "execution_count": null,
   "metadata": {},
   "outputs": [],
   "source": []
  }
 ],
 "metadata": {
  "kernelspec": {
   "display_name": "Python 3",
   "language": "python",
   "name": "python3"
  },
  "language_info": {
   "codemirror_mode": {
    "name": "ipython",
    "version": 3
   },
   "file_extension": ".py",
   "mimetype": "text/x-python",
   "name": "python",
   "nbconvert_exporter": "python",
   "pygments_lexer": "ipython3",
   "version": "3.7.0"
  }
 },
 "nbformat": 4,
 "nbformat_minor": 2
}
